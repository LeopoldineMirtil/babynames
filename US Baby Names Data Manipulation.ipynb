{
 "cells": [
  {
   "cell_type": "markdown",
   "id": "2f88d99f",
   "metadata": {},
   "source": [
    "# US Baby Names 1880 - 2019 Data Manipulation\n",
    "----\n",
    "\n",
    "### Source\n",
    "Data was uploaded and made publicly available by user Jeffrey Jex on Kaggle.com, originally sourced from the US Social Security Administration. It shows the name, gender and count sorted by year, \n",
    "[link here](https://www.kaggle.com/datasets/jeffreyjex/us-baby-names-18802019).\n"
   ]
  },
  {
   "cell_type": "code",
   "execution_count": null,
   "id": "b0eccb8a",
   "metadata": {},
   "outputs": [],
   "source": [
    "#library\n",
    "import pandas as pd\n",
    "\n",
    "#create list from year range \n",
    "yr_list = ['y' + str(n) for n in list(range(1880, 2020))]\n",
    "\n",
    "#initalize list for imported data\n",
    "data_list = []\n",
    "\n",
    "#use for loop to import data into empty data list\n",
    "for x in yr_list:\n",
    "    num = x[-4:]\n",
    "    x = pd.read_csv(f'US Baby Names 1880-2019/yob{num}.txt', sep=',', header=None, names=['name', 'gender', 'total'])\n",
    "    x['year']=num\n",
    "    data_list.append(x)\n",
    "\n",
    "#merge data list into one dataframe\n",
    "bn = pd.concat(data_list, join='outer').reset_index(drop=True)   \n",
    "\n",
    "#export combined data file\n",
    "bn.to_csv('baby_names1880-2019.txt', index=False)     "
   ]
  }
 ],
 "metadata": {
  "kernelspec": {
   "display_name": "Python 3",
   "language": "python",
   "name": "python3"
  },
  "language_info": {
   "codemirror_mode": {
    "name": "ipython",
    "version": 3
   },
   "file_extension": ".py",
   "mimetype": "text/x-python",
   "name": "python",
   "nbconvert_exporter": "python",
   "pygments_lexer": "ipython3",
   "version": "3.12.3"
  }
 },
 "nbformat": 4,
 "nbformat_minor": 5
}
